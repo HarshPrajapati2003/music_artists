{
 "cells": [
  {
   "cell_type": "code",
   "execution_count": 51,
   "id": "a767be6d",
   "metadata": {},
   "outputs": [],
   "source": [
    "import pandas as pd\n",
    "import numpy as np"
   ]
  },
  {
   "cell_type": "code",
   "execution_count": 52,
   "id": "87c5e571",
   "metadata": {},
   "outputs": [],
   "source": [
    "# If it's an Excel file, use read_excel\n",
    "df = pd.read_excel('N_artists_data27.xlsx')"
   ]
  },
  {
   "cell_type": "code",
   "execution_count": 53,
   "id": "a9eb9b81",
   "metadata": {},
   "outputs": [
    {
     "data": {
      "text/html": [
       "<div>\n",
       "<style scoped>\n",
       "    .dataframe tbody tr th:only-of-type {\n",
       "        vertical-align: middle;\n",
       "    }\n",
       "\n",
       "    .dataframe tbody tr th {\n",
       "        vertical-align: top;\n",
       "    }\n",
       "\n",
       "    .dataframe thead th {\n",
       "        text-align: right;\n",
       "    }\n",
       "</style>\n",
       "<table border=\"1\" class=\"dataframe\">\n",
       "  <thead>\n",
       "    <tr style=\"text-align: right;\">\n",
       "      <th></th>\n",
       "      <th>artist_name</th>\n",
       "      <th>artist_genre</th>\n",
       "      <th>artist_img</th>\n",
       "      <th>artist_id</th>\n",
       "      <th>artist_country</th>\n",
       "    </tr>\n",
       "  </thead>\n",
       "  <tbody>\n",
       "    <tr>\n",
       "      <th>0</th>\n",
       "      <td>Eric Cardona</td>\n",
       "      <td>Unknown</td>\n",
       "      <td>https://i.scdn.co/image/ab6761610000e5eb4fbd93...</td>\n",
       "      <td>4U6i0xGQYBjWFd8MtdF26R</td>\n",
       "      <td>United States</td>\n",
       "    </tr>\n",
       "    <tr>\n",
       "      <th>1</th>\n",
       "      <td>Ernst Ottensamer</td>\n",
       "      <td>classical clarinet</td>\n",
       "      <td>https://i.scdn.co/image/ab67616d0000b2731d0d64...</td>\n",
       "      <td>1uqscf67Zj76nFwDJPIqRY</td>\n",
       "      <td>Austria</td>\n",
       "    </tr>\n",
       "    <tr>\n",
       "      <th>2</th>\n",
       "      <td>The Full Monty Ensemble</td>\n",
       "      <td>Unknown</td>\n",
       "      <td>NaN</td>\n",
       "      <td>2pdug9wmiHBDSjJabePvQ2</td>\n",
       "      <td>Japan</td>\n",
       "    </tr>\n",
       "    <tr>\n",
       "      <th>3</th>\n",
       "      <td>George Fox</td>\n",
       "      <td>canadian country</td>\n",
       "      <td>https://i.scdn.co/image/ab6761610000e5eb2936cf...</td>\n",
       "      <td>16C53fCphxpf4lcPsBXeov</td>\n",
       "      <td>Canada</td>\n",
       "    </tr>\n",
       "    <tr>\n",
       "      <th>4</th>\n",
       "      <td>Infradig</td>\n",
       "      <td>Unknown</td>\n",
       "      <td>https://i.scdn.co/image/ab6761610000e5eb509dc4...</td>\n",
       "      <td>7xDYCXOiDipNQHxYoaykmy</td>\n",
       "      <td>United States</td>\n",
       "    </tr>\n",
       "  </tbody>\n",
       "</table>\n",
       "</div>"
      ],
      "text/plain": [
       "               artist_name        artist_genre  \\\n",
       "0             Eric Cardona             Unknown   \n",
       "1         Ernst Ottensamer  classical clarinet   \n",
       "2  The Full Monty Ensemble             Unknown   \n",
       "3               George Fox    canadian country   \n",
       "4                 Infradig             Unknown   \n",
       "\n",
       "                                          artist_img               artist_id  \\\n",
       "0  https://i.scdn.co/image/ab6761610000e5eb4fbd93...  4U6i0xGQYBjWFd8MtdF26R   \n",
       "1  https://i.scdn.co/image/ab67616d0000b2731d0d64...  1uqscf67Zj76nFwDJPIqRY   \n",
       "2                                                NaN  2pdug9wmiHBDSjJabePvQ2   \n",
       "3  https://i.scdn.co/image/ab6761610000e5eb2936cf...  16C53fCphxpf4lcPsBXeov   \n",
       "4  https://i.scdn.co/image/ab6761610000e5eb509dc4...  7xDYCXOiDipNQHxYoaykmy   \n",
       "\n",
       "  artist_country  \n",
       "0  United States  \n",
       "1        Austria  \n",
       "2          Japan  \n",
       "3         Canada  \n",
       "4  United States  "
      ]
     },
     "execution_count": 53,
     "metadata": {},
     "output_type": "execute_result"
    }
   ],
   "source": [
    "df.head()\n"
   ]
  },
  {
   "cell_type": "code",
   "execution_count": 54,
   "id": "b4f9d551",
   "metadata": {},
   "outputs": [
    {
     "name": "stdout",
     "output_type": "stream",
     "text": [
      "<class 'pandas.core.frame.DataFrame'>\n",
      "RangeIndex: 4547 entries, 0 to 4546\n",
      "Data columns (total 5 columns):\n",
      " #   Column          Non-Null Count  Dtype \n",
      "---  ------          --------------  ----- \n",
      " 0   artist_name     4547 non-null   object\n",
      " 1   artist_genre    4547 non-null   object\n",
      " 2   artist_img      3995 non-null   object\n",
      " 3   artist_id       4547 non-null   object\n",
      " 4   artist_country  4547 non-null   object\n",
      "dtypes: object(5)\n",
      "memory usage: 177.7+ KB\n"
     ]
    }
   ],
   "source": [
    "df.info()"
   ]
  },
  {
   "cell_type": "code",
   "execution_count": 55,
   "id": "9f6a1b2d",
   "metadata": {},
   "outputs": [
    {
     "name": "stdout",
     "output_type": "stream",
     "text": [
      "Number of duplicate rows: 63\n"
     ]
    }
   ],
   "source": [
    "duplicate_rows = df.duplicated().sum()\n",
    "print(f\"Number of duplicate rows: {duplicate_rows}\")"
   ]
  },
  {
   "cell_type": "code",
   "execution_count": 56,
   "id": "a0c4b5d6",
   "metadata": {},
   "outputs": [
    {
     "name": "stdout",
     "output_type": "stream",
     "text": [
      "Number of duplicate artist names: 168\n",
      "Duplicate artist details:\n",
      "artist_name\n",
      "Taylor Swift                          52\n",
      "Artist Vs Poet                        14\n",
      "Artist Unknown                        10\n",
      "RAC                                    9\n",
      "ACM Awards New Artist Nominees         8\n",
      "PM Artist Sessions Project             7\n",
      "Artist Reaching Christ                 7\n",
      "Artist Joe Smith                       6\n",
      "Bob Marley & The Wailers               4\n",
      "Lejwe La Motheo Artist Development     4\n",
      "New Artist Spotlight                   4\n",
      "Chicago                                3\n",
      "The Artist Ren                         3\n",
      "Solo Artist Saxx                       3\n",
      "Artist Running Club                    3\n",
      "Artist Ko Ensemble                     3\n",
      "Artistas del Parque Xcaret             3\n",
      "All Artist Adella                      3\n",
      "Junebug Slim                           2\n",
      "Artistka Chuprynenko                   2\n",
      "Sape Kayan                             2\n",
      "Black Flag                             2\n",
      "White Noise for Babies                 2\n",
      "Peter McPoland                         2\n",
      "All Artist Blue Squad PAN              2\n",
      "Taboh Sape                             2\n",
      "Superspy                               2\n",
      "The Wiggles                            2\n",
      "kvazar                                 2\n",
      "Name: count, dtype: int64\n"
     ]
    }
   ],
   "source": [
    "# Count duplicate artist names\n",
    "duplicate_artists = df['artist_name'].duplicated(keep=False) # keep=False\n",
    "duplicate_artists_count = duplicate_artists.sum()\n",
    "print(f\"Number of duplicate artist names: {duplicate_artists_count}\")\n",
    "# Optionally, you can get the count of each artist name and filter those wi\n",
    "artist_name_counts = df['artist_name'].value_counts()\n",
    "duplicate_artists_detail = artist_name_counts[artist_name_counts > 1]\n",
    "print(\"Duplicate artist details:\")\n",
    "print(duplicate_artists_detail)"
   ]
  },
  {
   "cell_type": "code",
   "execution_count": 57,
   "id": "d5853dea",
   "metadata": {},
   "outputs": [],
   "source": [
    "# Remove duplicate rows (keep='first' keeps the first occurrence)\n",
    "df_unique_rows = df.drop_duplicates(keep='first')\n"
   ]
  },
  {
   "cell_type": "code",
   "execution_count": 58,
   "id": "88367b21",
   "metadata": {},
   "outputs": [],
   "source": [
    "# Remove duplicate artist entries (if artist_name is duplicated, keep only the first occurrence)\n",
    "df_unique_artists = df_unique_rows.drop_duplicates(subset='artist_name', keep='first')\n"
   ]
  },
  {
   "cell_type": "code",
   "execution_count": 59,
   "id": "2c6d9cdf",
   "metadata": {},
   "outputs": [
    {
     "name": "stdout",
     "output_type": "stream",
     "text": [
      "Total number of unique rows: 4408\n"
     ]
    }
   ],
   "source": [
    "# Count the total number of unique rows\n",
    "unique_rows_count = df_unique_artists.shape[0]\n",
    "print(f\"Total number of unique rows: {unique_rows_count}\")"
   ]
  },
  {
   "cell_type": "code",
   "execution_count": 60,
   "id": "b032a30f",
   "metadata": {},
   "outputs": [],
   "source": [
    "# Save the DataFrame to a CSV file\n",
    "df_unique_artists.to_csv('unique_artists_27.csv', index=False)"
   ]
  },
  {
   "cell_type": "code",
   "execution_count": null,
   "id": "893ec04f",
   "metadata": {},
   "outputs": [],
   "source": []
  }
 ],
 "metadata": {
  "kernelspec": {
   "display_name": "Python 3 (ipykernel)",
   "language": "python",
   "name": "python3"
  },
  "language_info": {
   "codemirror_mode": {
    "name": "ipython",
    "version": 3
   },
   "file_extension": ".py",
   "mimetype": "text/x-python",
   "name": "python",
   "nbconvert_exporter": "python",
   "pygments_lexer": "ipython3",
   "version": "3.11.4"
  }
 },
 "nbformat": 4,
 "nbformat_minor": 5
}
