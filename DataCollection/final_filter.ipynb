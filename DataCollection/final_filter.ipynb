{
 "cells": [
  {
   "cell_type": "code",
   "execution_count": 2,
   "id": "9c8941d5",
   "metadata": {},
   "outputs": [],
   "source": [
    "import pandas as pd\n",
    "import numpy as np"
   ]
  },
  {
   "cell_type": "code",
   "execution_count": 3,
   "id": "666cd275",
   "metadata": {},
   "outputs": [],
   "source": [
    "# If it's an Excel file, use read_excel\n",
    "df = pd.read_csv('merged_artists_1_to_27.csv')"
   ]
  },
  {
   "cell_type": "code",
   "execution_count": 4,
   "id": "2664c7c4",
   "metadata": {},
   "outputs": [
    {
     "data": {
      "text/html": [
       "<div>\n",
       "<style scoped>\n",
       "    .dataframe tbody tr th:only-of-type {\n",
       "        vertical-align: middle;\n",
       "    }\n",
       "\n",
       "    .dataframe tbody tr th {\n",
       "        vertical-align: top;\n",
       "    }\n",
       "\n",
       "    .dataframe thead th {\n",
       "        text-align: right;\n",
       "    }\n",
       "</style>\n",
       "<table border=\"1\" class=\"dataframe\">\n",
       "  <thead>\n",
       "    <tr style=\"text-align: right;\">\n",
       "      <th></th>\n",
       "      <th>artist_name</th>\n",
       "      <th>artist_genre</th>\n",
       "      <th>artist_img</th>\n",
       "      <th>artist_id</th>\n",
       "      <th>artist_country</th>\n",
       "    </tr>\n",
       "  </thead>\n",
       "  <tbody>\n",
       "    <tr>\n",
       "      <th>0</th>\n",
       "      <td>Coldplay</td>\n",
       "      <td>permanent wave, pop</td>\n",
       "      <td>https://i.scdn.co/image/ab6761610000e5eb1ba8fc...</td>\n",
       "      <td>4gzpq5DPGxSnKTe4SA8HAU</td>\n",
       "      <td>United Kingdom</td>\n",
       "    </tr>\n",
       "    <tr>\n",
       "      <th>1</th>\n",
       "      <td>Radiohead</td>\n",
       "      <td>alternative rock, art rock, melancholia, oxfor...</td>\n",
       "      <td>https://i.scdn.co/image/ab6761610000e5eba03696...</td>\n",
       "      <td>4Z8W4fKeB5YxbusRsdQVPb</td>\n",
       "      <td>United Kingdom</td>\n",
       "    </tr>\n",
       "    <tr>\n",
       "      <th>2</th>\n",
       "      <td>Red Hot Chili Peppers</td>\n",
       "      <td>alternative rock, funk metal, funk rock, perma...</td>\n",
       "      <td>https://i.scdn.co/image/ab6761610000e5ebc33cc1...</td>\n",
       "      <td>0L8ExT028jH3ddEcZwqJJ5</td>\n",
       "      <td>United States</td>\n",
       "    </tr>\n",
       "    <tr>\n",
       "      <th>3</th>\n",
       "      <td>Rihanna</td>\n",
       "      <td>barbadian pop, pop, urban contemporary</td>\n",
       "      <td>https://i.scdn.co/image/ab6761610000e5eb99e4fc...</td>\n",
       "      <td>5pKCCKE2ajJHZ9KAiaK11H</td>\n",
       "      <td>United States</td>\n",
       "    </tr>\n",
       "    <tr>\n",
       "      <th>4</th>\n",
       "      <td>Eminem</td>\n",
       "      <td>detroit hip hop, hip hop, rap</td>\n",
       "      <td>https://i.scdn.co/image/ab6761610000e5eba00b11...</td>\n",
       "      <td>7dGJo4pcD2V6oG8kP0tJRR</td>\n",
       "      <td>United States</td>\n",
       "    </tr>\n",
       "  </tbody>\n",
       "</table>\n",
       "</div>"
      ],
      "text/plain": [
       "             artist_name                                       artist_genre  \\\n",
       "0               Coldplay                                permanent wave, pop   \n",
       "1              Radiohead  alternative rock, art rock, melancholia, oxfor...   \n",
       "2  Red Hot Chili Peppers  alternative rock, funk metal, funk rock, perma...   \n",
       "3                Rihanna             barbadian pop, pop, urban contemporary   \n",
       "4                 Eminem                      detroit hip hop, hip hop, rap   \n",
       "\n",
       "                                          artist_img               artist_id  \\\n",
       "0  https://i.scdn.co/image/ab6761610000e5eb1ba8fc...  4gzpq5DPGxSnKTe4SA8HAU   \n",
       "1  https://i.scdn.co/image/ab6761610000e5eba03696...  4Z8W4fKeB5YxbusRsdQVPb   \n",
       "2  https://i.scdn.co/image/ab6761610000e5ebc33cc1...  0L8ExT028jH3ddEcZwqJJ5   \n",
       "3  https://i.scdn.co/image/ab6761610000e5eb99e4fc...  5pKCCKE2ajJHZ9KAiaK11H   \n",
       "4  https://i.scdn.co/image/ab6761610000e5eba00b11...  7dGJo4pcD2V6oG8kP0tJRR   \n",
       "\n",
       "   artist_country  \n",
       "0  United Kingdom  \n",
       "1  United Kingdom  \n",
       "2   United States  \n",
       "3   United States  \n",
       "4   United States  "
      ]
     },
     "execution_count": 4,
     "metadata": {},
     "output_type": "execute_result"
    }
   ],
   "source": [
    "df.head()"
   ]
  },
  {
   "cell_type": "code",
   "execution_count": 5,
   "id": "9e7655a9",
   "metadata": {},
   "outputs": [
    {
     "name": "stdout",
     "output_type": "stream",
     "text": [
      "<class 'pandas.core.frame.DataFrame'>\n",
      "RangeIndex: 109173 entries, 0 to 109172\n",
      "Data columns (total 5 columns):\n",
      " #   Column          Non-Null Count   Dtype \n",
      "---  ------          --------------   ----- \n",
      " 0   artist_name     109173 non-null  object\n",
      " 1   artist_genre    109173 non-null  object\n",
      " 2   artist_img      102477 non-null  object\n",
      " 3   artist_id       109173 non-null  object\n",
      " 4   artist_country  109173 non-null  object\n",
      "dtypes: object(5)\n",
      "memory usage: 4.2+ MB\n"
     ]
    }
   ],
   "source": [
    "df.info()"
   ]
  },
  {
   "cell_type": "code",
   "execution_count": 6,
   "id": "6c38a0eb",
   "metadata": {},
   "outputs": [
    {
     "name": "stdout",
     "output_type": "stream",
     "text": [
      "Number of duplicate rows: 1998\n"
     ]
    }
   ],
   "source": [
    "duplicate_rows = df.duplicated().sum()\n",
    "print(f\"Number of duplicate rows: {duplicate_rows}\")"
   ]
  },
  {
   "cell_type": "code",
   "execution_count": 7,
   "id": "b5587345",
   "metadata": {},
   "outputs": [
    {
     "name": "stdout",
     "output_type": "stream",
     "text": [
      "Number of duplicate artist names: 13304\n",
      "Duplicate artist details:\n",
      "artist_name\n",
      "Artist Vs Poet                        26\n",
      "Artist Reaching Christ                26\n",
      "Artist Running Club                   26\n",
      "Taylor Swift                          26\n",
      "Lejwe La Motheo Artist Development    26\n",
      "                                      ..\n",
      "London Festival Orchestra              2\n",
      "The Marbles                            2\n",
      "We As Human                            2\n",
      "Sweatshop Union                        2\n",
      "Sevak                                  2\n",
      "Name: count, Length: 5506, dtype: int64\n"
     ]
    }
   ],
   "source": [
    "# Count duplicate artist names\n",
    "duplicate_artists = df['artist_name'].duplicated(keep=False) # keep=False\n",
    "duplicate_artists_count = duplicate_artists.sum()\n",
    "print(f\"Number of duplicate artist names: {duplicate_artists_count}\")\n",
    "# Optionally, you can get the count of each artist name and filter those wi\n",
    "artist_name_counts = df['artist_name'].value_counts()\n",
    "duplicate_artists_detail = artist_name_counts[artist_name_counts > 1]\n",
    "print(\"Duplicate artist details:\")\n",
    "print(duplicate_artists_detail)"
   ]
  },
  {
   "cell_type": "code",
   "execution_count": 8,
   "id": "f961359d",
   "metadata": {},
   "outputs": [],
   "source": [
    "# Remove duplicate rows (keep='first' keeps the first occurrence)\n",
    "df_unique_rows = df.drop_duplicates(keep='first')"
   ]
  },
  {
   "cell_type": "code",
   "execution_count": 9,
   "id": "162b4cfa",
   "metadata": {},
   "outputs": [],
   "source": [
    "# Remove duplicate artist entries (if artist_name is duplicated, keep only the first occurrence)\n",
    "df_unique_artists = df_unique_rows.drop_duplicates(subset='artist_name', keep='first')\n"
   ]
  },
  {
   "cell_type": "code",
   "execution_count": 10,
   "id": "84ed7370",
   "metadata": {},
   "outputs": [
    {
     "name": "stdout",
     "output_type": "stream",
     "text": [
      "Total number of unique rows: 101375\n"
     ]
    }
   ],
   "source": [
    "# Count the total number of unique rows\n",
    "unique_rows_count = df_unique_artists.shape[0]\n",
    "print(f\"Total number of unique rows: {unique_rows_count}\")"
   ]
  },
  {
   "cell_type": "code",
   "execution_count": 11,
   "id": "289c00c0",
   "metadata": {},
   "outputs": [
    {
     "name": "stdout",
     "output_type": "stream",
     "text": [
      "Total number of rows where artist_genre was \"Unknown\": 36813\n"
     ]
    }
   ],
   "source": [
    "# 1. Replace \"Unknown\" in artist_genre with \"hip hop\"\n",
    "unknown_genre_count = df[df['artist_genre'] == \"Unknown\"].shape[0]\n",
    "df['artist_genre'] = df['artist_genre'].replace(\"Unknown\", \"hip hop\")\n",
    "\n",
    "# Print the count of rows replaced\n",
    "print(f'Total number of rows where artist_genre was \"Unknown\": {unknown_genre_count}')"
   ]
  },
  {
   "cell_type": "code",
   "execution_count": 12,
   "id": "8997cf93",
   "metadata": {},
   "outputs": [
    {
     "name": "stdout",
     "output_type": "stream",
     "text": [
      "Total number of rows where artist_img was empty: 6696\n"
     ]
    }
   ],
   "source": [
    "# 2. Replace empty artist_img fields with the default image URL\n",
    "empty_img_count = df['artist_img'].isna().sum()\n",
    "df['artist_img'] = df['artist_img'].fillna(\"https://media.istockphoto.com/id/1298261537/vector/blank-man-profile-head-icon-placeholder.jpg?s=612x612&w=0&k=20&c=CeT1RVWZzQDay4t54ookMaFsdi7ZHVFg2Y5v7hxigCA=\")\n",
    "\n",
    "# Print the count of rows replaced\n",
    "print(f'Total number of rows where artist_img was empty: {empty_img_count}')"
   ]
  },
  {
   "cell_type": "code",
   "execution_count": 13,
   "id": "d387e1a8",
   "metadata": {},
   "outputs": [],
   "source": [
    "# 3. Create name_abbreviation column\n",
    "df['name_abbreviation'] = df['artist_name'].apply(lambda x: ''.join([word[0].upper() for word in x.split()]) if len(x.split()) > 1 else x)"
   ]
  },
  {
   "cell_type": "code",
   "execution_count": 14,
   "id": "49ffb91b",
   "metadata": {},
   "outputs": [
    {
     "name": "stdout",
     "output_type": "stream",
     "text": [
      "Data cleaning and processing completed successfully!\n"
     ]
    }
   ],
   "source": [
    "# Save the cleaned and updated DataFrame to a new CSV file\n",
    "df.to_csv('Ultimate_unique_artists.csv', index=False)\n",
    "\n",
    "print(\"Data cleaning and processing completed successfully!\")"
   ]
  },
  {
   "cell_type": "code",
   "execution_count": null,
   "id": "50b16e3a",
   "metadata": {},
   "outputs": [],
   "source": []
  }
 ],
 "metadata": {
  "kernelspec": {
   "display_name": "Python 3 (ipykernel)",
   "language": "python",
   "name": "python3"
  },
  "language_info": {
   "codemirror_mode": {
    "name": "ipython",
    "version": 3
   },
   "file_extension": ".py",
   "mimetype": "text/x-python",
   "name": "python",
   "nbconvert_exporter": "python",
   "pygments_lexer": "ipython3",
   "version": "3.11.4"
  }
 },
 "nbformat": 4,
 "nbformat_minor": 5
}
