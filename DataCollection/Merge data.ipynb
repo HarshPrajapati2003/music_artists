{
 "cells": [
  {
   "cell_type": "code",
   "execution_count": 1,
   "id": "31719d06",
   "metadata": {},
   "outputs": [],
   "source": [
    "import pandas as pd"
   ]
  },
  {
   "cell_type": "code",
   "execution_count": 2,
   "id": "a67f1586",
   "metadata": {},
   "outputs": [],
   "source": [
    "# List all your CSV files\n",
    "csv_files = ['unique_artists_1.csv', 'unique_artists_2.csv', 'unique_artists_3.csv', \n",
    "             'unique_artists_4.csv', 'unique_artists_5.csv', 'unique_artists_6.csv',\n",
    "             'unique_artists_7.csv', 'unique_artists_8.csv', 'unique_artists_9.csv',\n",
    "            'unique_artists_10.csv', 'unique_artists_11.csv', 'unique_artists_12.csv', \n",
    "             'unique_artists_13.csv', 'unique_artists_14.csv', 'unique_artists_15.csv',\n",
    "             'unique_artists_16.csv', 'unique_artists_17.csv', 'unique_artists_19.csv',\n",
    "            'unique_artists_20.csv', 'unique_artists_21.csv', 'unique_artists_22.csv', \n",
    "             'unique_artists_23.csv', 'unique_artists_24.csv', 'unique_artists_25.csv',\n",
    "             'unique_artists_26.csv', 'unique_artists_27.csv']"
   ]
  },
  {
   "cell_type": "code",
   "execution_count": 3,
   "id": "3c128813",
   "metadata": {},
   "outputs": [],
   "source": [
    "# Initialize an empty list to store DataFrames\n",
    "df_list = []\n",
    "\n",
    "# Loop through the files and read them into DataFrames\n",
    "for file in csv_files:\n",
    "    df = pd.read_csv(file)\n",
    "    df_list.append(df)"
   ]
  },
  {
   "cell_type": "code",
   "execution_count": 4,
   "id": "1fe1b30d",
   "metadata": {},
   "outputs": [],
   "source": [
    "# Concatenate all DataFrames into one\n",
    "combined_df = pd.concat(df_list, ignore_index=True)"
   ]
  },
  {
   "cell_type": "code",
   "execution_count": 5,
   "id": "aa9ed150",
   "metadata": {},
   "outputs": [
    {
     "name": "stdout",
     "output_type": "stream",
     "text": [
      "All CSV files have been successfully merged into 'merged_artists.csv'!\n"
     ]
    }
   ],
   "source": [
    "# Save the combined DataFrame into a new CSV file\n",
    "combined_df.to_csv('merged_artists_1_to_27.csv', index=False)\n",
    "\n",
    "print(\"All CSV files have been successfully merged into 'merged_artists.csv'!\")"
   ]
  },
  {
   "cell_type": "code",
   "execution_count": null,
   "id": "bc5e539a",
   "metadata": {},
   "outputs": [],
   "source": []
  }
 ],
 "metadata": {
  "kernelspec": {
   "display_name": "Python 3 (ipykernel)",
   "language": "python",
   "name": "python3"
  },
  "language_info": {
   "codemirror_mode": {
    "name": "ipython",
    "version": 3
   },
   "file_extension": ".py",
   "mimetype": "text/x-python",
   "name": "python",
   "nbconvert_exporter": "python",
   "pygments_lexer": "ipython3",
   "version": "3.11.4"
  }
 },
 "nbformat": 4,
 "nbformat_minor": 5
}
